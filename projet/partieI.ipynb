{
 "cells": [
  {
   "cell_type": "code",
   "execution_count": null,
   "metadata": {},
   "outputs": [],
   "source": [
    "def saisir_produit():\n",
    "    nom=input('entrer nom : ')\n",
    "    puht=float(input('entrer puht : '))\n",
    "    quant=int(input('entrer quantite : '))\n",
    "    return nom.upper(),puht,quant \n",
    "## don't forget this!!!\n",
    "nom,puht,quantite=saisir_produit()\n"
   ]
  },
  {
   "cell_type": "code",
   "execution_count": null,
   "metadata": {},
   "outputs": [],
   "source": [
    "test=True\n",
    "while test==True:\n",
    "    nom=input('entrer nom : ')\n",
    "    puht=float(input('entrer puht : '))\n",
    "    quant=int(input('entrer quantite : '))\n",
    "    if(not nom.isalpha()) and quant.isdigit() :\n",
    "        print(\"vous n'avez pas entrer une chaine de caracteres!\")\n",
    "        test=False\n",
    "    elif ValueError :\n",
    "        test=False\n",
    "        print('entrer la bonne valeur')\n",
    "    else : continue\n",
    "print(nom,puht,quant)   "
   ]
  },
  {
   "cell_type": "code",
   "execution_count": 12,
   "metadata": {},
   "outputs": [
    {
     "name": "stdout",
     "output_type": "stream",
     "text": [
      "\u001b[1;31mDocstring:\u001b[0m\n",
      "%%python script magic\n",
      "\n",
      "Run cells with python in a subprocess.\n",
      "\n",
      "This is a shortcut for `%%script python`\n",
      "\u001b[1;31mFile:\u001b[0m      c:\\users\\user\\appdata\\roaming\\python\\python310\\site-packages\\ipython\\core\\magics\\script.py\n"
     ]
    }
   ],
   "source": [
    "//check input is integer in python?\n",
    "\n",
    "try:\n",
    "    nom=input('entrer nom : ')\n",
    "    puht=float(input('entrer puht : '))\n",
    "    quant=int(input('entrer quantite : '))\n",
    "except not quant is digit():\n",
    "    print(\"That's not an int!\")\n",
    "except not nom.isalpha:\n",
    "    print(\"vous n'avez pas entrer une chaine de caracteres!\")\n",
    "        "
   ]
  },
  {
   "cell_type": "code",
   "execution_count": null,
   "metadata": {},
   "outputs": [],
   "source": [
    "def afficher_produit(nom,puht,quantite):\n",
    "    aff='{0:<8s}|{1:<8.2f}|{2:<5d}'.format(nom,puht,quantite)\n",
    "    return print(aff)\n",
    "\n",
    "afficher_produit(nom,puht,quantite)"
   ]
  },
  {
   "cell_type": "code",
   "execution_count": null,
   "metadata": {},
   "outputs": [],
   "source": [
    "noms=[]\n",
    "puhts=[]\n",
    "quantites=[]"
   ]
  },
  {
   "cell_type": "code",
   "execution_count": null,
   "metadata": {},
   "outputs": [],
   "source": [
    "def ajouter_produit(nom,puht,quantite):\n",
    "    global noms,puhts,quantites\n",
    "    noms.append(nom)\n",
    "    puhts.append(puht) \n",
    "    quantites.append(quantite)\n",
    "    return noms,puhts,quantites"
   ]
  },
  {
   "cell_type": "code",
   "execution_count": null,
   "metadata": {},
   "outputs": [],
   "source": [
    "def saisir_stock(n):\n",
    "    for i in range(n):\n",
    "        nom,puht,quantite=saisir_produit()\n",
    "        ajouter_produit(nom,puht,quantite)"
   ]
  },
  {
   "cell_type": "markdown",
   "metadata": {},
   "source": [
    "**print(\"\\x1B[4m\" + text + \"\\x1B[0m\")**\n",
    "escape characters for underligned string"
   ]
  },
  {
   "cell_type": "code",
   "execution_count": null,
   "metadata": {},
   "outputs": [],
   "source": [
    "saisir_stock(3)\n",
    "def afficher_stock():\n",
    "    print('\\033[4m{0:<8s}|{1:<8s}|{2:<5s}\\x1B[0m'.format('NOM','PUHT','QUANTITE'))\n",
    "    for i in range(len(noms)):\n",
    "        afficher_produit(noms[i],puhts[i],quantites[i])\n",
    "afficher_stock()"
   ]
  },
  {
   "cell_type": "code",
   "execution_count": null,
   "metadata": {},
   "outputs": [],
   "source": [
    "print('\\033[4mNOM |PUHT |QUANTITE\\x1B[0m')\n",
    "print('\\033[4m {0:<8s}|{1:<8s}|{2:<5s}\\x1B[0m'.format('NOM','PUHT','QUANTITE'))\n"
   ]
  },
  {
   "cell_type": "code",
   "execution_count": null,
   "metadata": {},
   "outputs": [],
   "source": []
  }
 ],
 "metadata": {
  "kernelspec": {
   "display_name": "Python 3.10.7 64-bit",
   "language": "python",
   "name": "python3"
  },
  "language_info": {
   "codemirror_mode": {
    "name": "ipython",
    "version": 3
   },
   "file_extension": ".py",
   "mimetype": "text/x-python",
   "name": "python",
   "nbconvert_exporter": "python",
   "pygments_lexer": "ipython3",
   "version": "3.10.7"
  },
  "orig_nbformat": 4,
  "vscode": {
   "interpreter": {
    "hash": "fb4569285eef3a3450cb62085a5b1e0da4bce0af555edc33dcf29baf3acc1368"
   }
  }
 },
 "nbformat": 4,
 "nbformat_minor": 2
}
