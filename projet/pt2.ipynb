{
 "cells": [
  {
   "cell_type": "code",
   "execution_count": null,
   "metadata": {},
   "outputs": [],
   "source": [
    "l=[0,1,2,7,6,1,8,6]\n",
    "c=l.index(6)\n",
    "c"
   ]
  },
  {
   "cell_type": "code",
   "execution_count": null,
   "metadata": {},
   "outputs": [],
   "source": [
    "noms=['TV','MO','RFG']\n",
    "def rechercher_produit(prod):\n",
    "    exist= True\n",
    "    indice= None\n",
    "    if prod.upper() in noms :\n",
    "        exist=True\n",
    "        indice=noms.index(prod.upper())\n",
    "    else: \n",
    "        exist=False\n",
    "    return exist , indice\n",
    "\n",
    "se_trouve,indice=rechercher_produit('tv')\n",
    "se_trouve,indice"
   ]
  },
  {
   "cell_type": "code",
   "execution_count": null,
   "metadata": {},
   "outputs": [],
   "source": [
    "noms=['TV','MO','RFG']\n",
    "puhts=[]\n",
    "quantites=[]\n",
    "def ajouter_produit(nom,puht,quantite):\n",
    "    global noms,puhts,quantites\n",
    "    se_trouve,indice=rechercher_produit(nom)\n",
    "    etat=True\n",
    "    if se_trouve==False :\n",
    "        noms.append(nom.upper())\n",
    "        puhts.append(puht) \n",
    "        quantites.append(quantite)\n",
    "        etat=True\n",
    "    else:\n",
    "        etat=False\n",
    "    return noms,puhts,quantites, print(etat)\n",
    "\n",
    "ajouter_produit('oc',45.15,54)\n",
    "ajouter_produit('mo',45.12,5)"
   ]
  },
  {
   "cell_type": "code",
   "execution_count": null,
   "metadata": {},
   "outputs": [],
   "source": [
    "noms=['TV','MO','RFG']\n",
    "puhts=[452.12,12589.56,6632.05]\n",
    "quantites=[5,6,7]\n",
    "def supprimer_produit(nom):\n",
    "    global noms,puhts,quantites\n",
    "    se_trouve,indice=rechercher_produit(nom.upper())\n",
    "    etat=True\n",
    "    if se_trouve==True:\n",
    "        noms.pop(indice)\n",
    "        puhts.pop(indice) \n",
    "        quantites.pop(indice)\n",
    "        etat=True\n",
    "    else:\n",
    "        etat=False \n",
    "    return print(etat)\n",
    "\n",
    "supprimer_produit('ko')\n",
    "print(noms,puhts,quantites)"
   ]
  },
  {
   "cell_type": "code",
   "execution_count": null,
   "metadata": {},
   "outputs": [],
   "source": [
    "noms=['TV','MO','RFG']\n",
    "noms.pop(1)\n",
    "noms"
   ]
  },
  {
   "cell_type": "code",
   "execution_count": 1,
   "metadata": {},
   "outputs": [
    {
     "name": "stdout",
     "output_type": "stream",
     "text": [
      "True\n",
      "True\n"
     ]
    },
    {
     "data": {
      "text/plain": [
       "(['LOLO', 'MO', 'RFG'], [452.12, 400.55, 6632.05], [5, 6, 7], None)"
      ]
     },
     "execution_count": 1,
     "metadata": {},
     "output_type": "execute_result"
    }
   ],
   "source": [
    "noms=['TV','MO','RFG']\n",
    "puhts=[452.12,12589.56,6632.05]\n",
    "quantites=[5,6,7]\n",
    "\n",
    "def rechercher_produit(prod):\n",
    "    exist= True\n",
    "    indice= None\n",
    "    if prod.upper() in noms :\n",
    "        exist=True\n",
    "        indice=noms.index(prod.upper())\n",
    "    else: \n",
    "        exist=False\n",
    "    return exist , indice\n",
    "\n",
    "\n",
    "def modifier_produit(nom,nom_new='', puht_new=0, quantite_new=0):\n",
    "    global noms,puhts,quantites\n",
    "    se_trouve,indice=rechercher_produit(nom)\n",
    "    etat=True\n",
    "    test_type=(type(nom_new)is str) and(type(puht_new) is float)  and (type(quantite_new) is int)\n",
    "    if se_trouve==True :\n",
    "        if nom_new!=noms[indice] and nom_new!=''and (type(nom_new)is str) :\n",
    "            noms[indice]=nom_new.upper()\n",
    "            etat=True\n",
    "        elif puht_new != puhts[indice] and puht_new !=0 and (type(puht_new) is float) :\n",
    "            puhts[indice]=puht_new\n",
    "            etat=True\n",
    "        elif quantite_new!=quantites[indice] and quantite_new!=0 and(type(quantite_new) is int) :\n",
    "            quantites[indice]=quantite_new\n",
    "            etat=True\n",
    "    else:\n",
    "        etat=False\n",
    "    return noms,puhts,quantites, print(etat)\n",
    "\n",
    "modifier_produit('tv', puht_new='vv', nom_new='lolo' )\n",
    "modifier_produit('MO',  puht_new=400.55, quantite_new=10)"
   ]
  },
  {
   "cell_type": "code",
   "execution_count": 22,
   "metadata": {},
   "outputs": [
    {
     "data": {
      "text/plain": [
       "True"
      ]
     },
     "execution_count": 22,
     "metadata": {},
     "output_type": "execute_result"
    }
   ],
   "source": [
    "noms=['TV','MO','RFG']\n",
    "puhts=[452.12,12589.56,6632.05]\n",
    "quantites=[5,6,7]\n",
    "\n",
    "def rechercher_produit(prod):\n",
    "    exist= True\n",
    "    indice= None\n",
    "    if prod.upper() in noms :\n",
    "        exist=True\n",
    "        indice=noms.index(prod.upper())\n",
    "    else: \n",
    "        exist=False\n",
    "    return exist , indice\n",
    "\n",
    "\n",
    "def modifier_produit(nom,nom_new='', puht_new=0, quantite_new=0):\n",
    "    global noms,puhts,quantites\n",
    "    se_trouve,indice=rechercher_produit(nom)\n",
    "    etat=True\n",
    "    test_type=(type(nom_new)is str) and(type(puht_new) is float or int )  and (type(quantite_new) is int)\n",
    "    if se_trouve==True and test_type==True:\n",
    "        if nom_new!=noms[indice] and nom_new!='' :\n",
    "            noms[indice]=nom_new.upper()\n",
    "            etat=True\n",
    "        elif puht_new != puhts[indice] and puht_new !=0  :\n",
    "            puhts[indice]=puht_new\n",
    "            etat=True\n",
    "        elif quantite_new!=quantites[indice] and quantite_new!=0 :\n",
    "            quantites[indice]=quantite_new\n",
    "            etat=True\n",
    "    else:\n",
    "        etat=False\n",
    "    return etat\n",
    "\n",
    "modifier_produit('tv', puht_new=785.5485)\n",
    "modifier_produit('MO',  puht_new=400.55, quantite_new=10)"
   ]
  },
  {
   "cell_type": "code",
   "execution_count": 20,
   "metadata": {},
   "outputs": [
    {
     "data": {
      "text/plain": [
       "True"
      ]
     },
     "execution_count": 20,
     "metadata": {},
     "output_type": "execute_result"
    }
   ],
   "source": [
    "modifier_produit('tv', puht_new=785.5485)\n"
   ]
  },
  {
   "cell_type": "code",
   "execution_count": 16,
   "metadata": {},
   "outputs": [
    {
     "data": {
      "text/plain": [
       "False"
      ]
     },
     "execution_count": 16,
     "metadata": {},
     "output_type": "execute_result"
    }
   ],
   "source": [
    "#set an input text for max quantity as set up parameter\n",
    "quantite_max=100\n",
    "\n",
    "noms=['TV','MO','RFG']\n",
    "puhts=[452.12,12589.56,6632.05]\n",
    "quantites=[5,6,7]\n",
    "\n",
    "def acheter_produit(nom,quant_achetee):\n",
    "    global quantite_max, quantites\n",
    "    se_trouve,indice=rechercher_produit(nom)\n",
    "    quant=quantites[indice]\n",
    "    quantite_maj=quant+quant_achetee\n",
    "    if quantite_maj <= quantite_max :\n",
    "        quantites[indice]= quantite_maj\n",
    "        return True\n",
    "    else: return False\n",
    "\n",
    "acheter_produit('mo',100)"
   ]
  },
  {
   "cell_type": "code",
   "execution_count": 25,
   "metadata": {},
   "outputs": [
    {
     "data": {
      "text/plain": [
       "False"
      ]
     },
     "execution_count": 25,
     "metadata": {},
     "output_type": "execute_result"
    }
   ],
   "source": [
    "def vendre_produit(nom,quant_vendues):\n",
    "    global quantites\n",
    "    se_trouve,indice=rechercher_produit(nom)\n",
    "    quant=quantites[indice]\n",
    "    quantite_maj=quant - quant_vendues\n",
    "    if quantite_maj >= 0 :\n",
    "        quantites[indice]= quantite_maj\n",
    "        return True\n",
    "    else: return False\n",
    "\n",
    "vendre_produit('tv',50)    "
   ]
  },
  {
   "cell_type": "code",
   "execution_count": null,
   "metadata": {},
   "outputs": [],
   "source": []
  }
 ],
 "metadata": {
  "kernelspec": {
   "display_name": "Python 3.10.7 64-bit",
   "language": "python",
   "name": "python3"
  },
  "language_info": {
   "codemirror_mode": {
    "name": "ipython",
    "version": 3
   },
   "file_extension": ".py",
   "mimetype": "text/x-python",
   "name": "python",
   "nbconvert_exporter": "python",
   "pygments_lexer": "ipython3",
   "version": "3.10.7"
  },
  "orig_nbformat": 4,
  "vscode": {
   "interpreter": {
    "hash": "fb4569285eef3a3450cb62085a5b1e0da4bce0af555edc33dcf29baf3acc1368"
   }
  }
 },
 "nbformat": 4,
 "nbformat_minor": 2
}
