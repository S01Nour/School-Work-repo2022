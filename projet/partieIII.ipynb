{
 "cells": [
  {
   "cell_type": "code",
   "execution_count": 17,
   "metadata": {},
   "outputs": [
    {
     "name": "stdout",
     "output_type": "stream",
     "text": [
      "nnn;567;258\n",
      "\n"
     ]
    },
    {
     "data": {
      "text/plain": [
       "'nnn;567;258\\n'"
      ]
     },
     "execution_count": 17,
     "metadata": {},
     "output_type": "execute_result"
    }
   ],
   "source": [
    "def produit2chaine(nom,puht,quant):\n",
    "    affichage=str(nom)+';'+str(puht)+';'+str(quant)+'\\n'\n",
    "    return affichage\n",
    "print(produit2chaine('nnn',567,258))\n",
    "produit2chaine('nnn',567,258)"
   ]
  },
  {
   "cell_type": "code",
   "execution_count": 19,
   "metadata": {},
   "outputs": [
    {
     "data": {
      "text/plain": [
       "('nnn', 567.0, 258)"
      ]
     },
     "execution_count": 19,
     "metadata": {},
     "output_type": "execute_result"
    }
   ],
   "source": [
    "def chaine2produit(chaine):\n",
    "    chaine_de_val=chaine[0:(len(chaine)-1)]\n",
    "    l=chaine_de_val.split(';')\n",
    "    nom=l[0]\n",
    "    puht=float(l[1])\n",
    "    quant=int(l[2])\n",
    "    return nom, puht, quant\n",
    "nom, puht, quantite = chaine2produit('nnn;567;258\\n')\n",
    "nom, puht, quantite"
   ]
  },
  {
   "cell_type": "code",
   "execution_count": null,
   "metadata": {},
   "outputs": [],
   "source": [
    "fichier=open('produits.txt','w')\n",
    "print(line.rstrip())  #rstrip removes the '\\n' character\n",
    "\n"
   ]
  },
  {
   "cell_type": "code",
   "execution_count": 18,
   "metadata": {},
   "outputs": [
    {
     "name": "stdout",
     "output_type": "stream",
     "text": [
      "TV;452.12;5\n",
      "MO;12589.56;6\n",
      "RFG;6632.05;7\n",
      "\n"
     ]
    }
   ],
   "source": [
    "noms=['TV','MO','RFG']\n",
    "puhts=[452.12,12589.56,6632.05]\n",
    "quantites=[5,6,7]\n",
    "\n",
    "\n",
    "stock=open('stock.txt','w')\n",
    "stock.close()\n",
    "def enregistrer_stock(name):\n",
    "    global  stock,noms, puhts, quantites\n",
    "    stock=open(name,'a')\n",
    "    for i in range(len(noms)):\n",
    "        stock.write(produit2chaine(noms[i], puhts[i], quantites[i]))\n",
    "    stock.close()\n",
    "enregistrer_stock('stock.txt')\n",
    "stock=open('stock.txt','r')\n",
    "t=stock.read()\n",
    "print(t)\n",
    "stock.close()"
   ]
  },
  {
   "cell_type": "code",
   "execution_count": 23,
   "metadata": {},
   "outputs": [
    {
     "name": "stdout",
     "output_type": "stream",
     "text": [
      "['TV', 'MO', 'RFG'] [452.12, 12589.56, 6632.05] [5, 6, 7]\n"
     ]
    }
   ],
   "source": [
    "noms=[]\n",
    "puhts=[]\n",
    "quantites=[]\n",
    "\n",
    "def charger_stock(name):\n",
    "    global  stock,noms, puhts, quantites\n",
    "    stock=open(name,'r')\n",
    "    list=stock.readlines()\n",
    "    for i in list :\n",
    "        nom,puht,quant=chaine2produit(i)\n",
    "        noms.append(nom.upper())\n",
    "        puhts.append(puht)\n",
    "        quantites.append(quant)\n",
    "    stock.close()\n",
    "charger_stock('stock.txt')\n",
    "print(noms, puhts, quantites)"
   ]
  }
 ],
 "metadata": {
  "kernelspec": {
   "display_name": "Python 3.10.7 64-bit",
   "language": "python",
   "name": "python3"
  },
  "language_info": {
   "codemirror_mode": {
    "name": "ipython",
    "version": 3
   },
   "file_extension": ".py",
   "mimetype": "text/x-python",
   "name": "python",
   "nbconvert_exporter": "python",
   "pygments_lexer": "ipython3",
   "version": "3.10.7"
  },
  "orig_nbformat": 4,
  "vscode": {
   "interpreter": {
    "hash": "fb4569285eef3a3450cb62085a5b1e0da4bce0af555edc33dcf29baf3acc1368"
   }
  }
 },
 "nbformat": 4,
 "nbformat_minor": 2
}
